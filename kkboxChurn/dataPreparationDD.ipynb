{
 "cells": [
  {
   "cell_type": "markdown",
   "metadata": {},
   "source": [
    "## We want to see if a user make a new service subscription transaction within 30 days after their current membership expiration date.\n",
    "\n",
    "The churn/renewal definition can be tricky due to KKBox's subscription model. Since the majority of KKBox's subscription length is 30 days, a lot of users re-subscribe every month. The key fields to determine churn/renewal are transaction date, membership expiration date, and is_cancel. Note that the is_cancel field indicates whether a user actively cancels a subscription. Note that a cancellation does not imply the user has churned. A user may cancel service subscription due to change of service plans or other reasons. **The criteria of \"churn\" is no new valid service subscription within 30 days after the current membership expires. **\n",
    "\n",
    "The train and the test data are selected from users whose membership expire within a certain month. The train data consists of users whose subscription expires within the month of February 2017, and the test data is with users whose subscription expires within the month of March 2017. This means we are looking at user churn or renewal roughly in the month of March 2017 for train set, and the user churn or renewal roughly in the month of April 2017. Train and test sets are split by transaction date, as well as the public and private leaderboard data.\n",
    "\n",
    "In this dataset, KKBox has included more users behaviors than the ones in train and test datasets, in order to enable participants to explore different user behaviors outside of the train and test sets. For example, a user could actively cancel the subscription, but renew within 30 days.\n",
    "\n",
    "UPDATE: As of November 6, 2017, we have refreshed the test data to predict user churn in the month of April, 2017.\n",
    "\n",
    "* msno: user id\n",
    "* is_churn: This is the target variable. Churn is defined as whether the user did not continue the subscription within 30 days of expiration. __is_churn = 1__ means churn, __is_churn = 0__ means renewal.\n",
    "* payment_method_id: payment method\n",
    "* payment_plan_days: length of membership plan in days\n",
    "* plan_list_price: in New Taiwan Dollar (NTD)\n",
    "* actual_amount_paid: in New Taiwan Dollar (NTD)\n",
    "* transaction_date: format %Y%m%d\n",
    "* membership_expire_date: format %Y%m%d\n",
    "* is_cancel: whether or not the user canceled the membership in this transaction."
   ]
  },
  {
   "cell_type": "code",
   "execution_count": 1,
   "metadata": {
    "collapsed": true
   },
   "outputs": [],
   "source": [
    "import numpy as np\n",
    "import pandas as pd\n",
    "import dask.dataframe as dd"
   ]
  },
  {
   "cell_type": "code",
   "execution_count": 2,
   "metadata": {
    "collapsed": true,
    "scrolled": true
   },
   "outputs": [],
   "source": [
    "transactionDf = dd.read_csv('data/transactions.csv')\n",
    "\n",
    "# transactionDf.compute()"
   ]
  },
  {
   "cell_type": "code",
   "execution_count": 3,
   "metadata": {
    "collapsed": true,
    "scrolled": true
   },
   "outputs": [],
   "source": [
    "# meta = ('membership_expire_date', pd.Timestamp)\n",
    "def expireMonth(df):\n",
    "    return df['membership_expire_date']/100\n",
    "\n",
    "def transMonth(df):\n",
    "    return df['transaction_date']/100\n",
    "\n",
    "\n",
    "# transactionDf = transactionDf.assign(membership_expire_month=transactionDf.map_partitions(parseDT,meta=pd.Timestamp ))\n",
    "transactionDf['transaction_month'] = (transactionDf['transaction_date']/100).astype(int)\n",
    "transactionDf['membership_expire_month']=(transactionDf['membership_expire_date']/100).astype(int)\n",
    "# transactionDf.compute()"
   ]
  },
  {
   "cell_type": "code",
   "execution_count": 4,
   "metadata": {
    "collapsed": true,
    "scrolled": true
   },
   "outputs": [],
   "source": [
    "## for each of the user, groupby month, is_cancel,"
   ]
  },
  {
   "cell_type": "code",
   "execution_count": 19,
   "metadata": {
    "scrolled": true
   },
   "outputs": [],
   "source": [
    "userDf = dd.read_csv('data/user_logs_v2.csv')\n",
    "userDf['month'] = (userDf['date']/100).astype(int)\n",
    "# userDf.head()"
   ]
  },
  {
   "cell_type": "code",
   "execution_count": 7,
   "metadata": {
    "scrolled": true
   },
   "outputs": [
    {
     "data": {
      "text/plain": [
       "0         4n+fXlyJvfQnTeKXTWT507Ll4JVYGrOC8LHCfwBmPE4=\n",
       "1         aNmbC1GvFUxQyQUidCVmfbQ0YeCuwkPzEdQ0RwWyeZM=\n",
       "2         rFC9eSG/tMuzpre6cwcMLZHEYM89xY02qcz7HL4//jc=\n",
       "3         WZ59dLyrQcE7ft06MZ5dj40BnlYQY7PHgg/54+HaCSE=\n",
       "4         aky/Iv8hMp1/V/yQHLtaVuEmmAxkB5GuasQZePJ7NU4=\n",
       "5         nu1jZ/flvSaXRg0U9Es+xmo2KlAXq/q+mhcWFStwm9w=\n",
       "6         biDTtgK83fEWXJDaxzD1eh22dion/h3odeIbS7qJMmY=\n",
       "7         k/8uwi/iM9LZmRAIWXLqpZY6ENomXAscwsQsh6PxcTw=\n",
       "8         18rQ/746SjA6nBx325UsyhfsDhu4tK01FXFxHWZjw20=\n",
       "9         2V13OCoWx6vqKr/ZzNmKFrmnC2FtR4SWMz5C5Hi02PY=\n",
       "10        1l/ZwduFxS/q/hZeyssAYH27espkp8Yw6uAnUxfEbTI=\n",
       "11        azfnO16ZeQsbJF6LcqkQhbA3NWiqHYWqaq7AFjsJVaQ=\n",
       "12        RPOzeEr8mSbhj6wrF29+7KciuiNrj7IvkzxJ9rgCTks=\n",
       "13        NAzfjSM2EOyFhV4rIm/RO9pXCbyti6scBfcmV/t+CaU=\n",
       "14        1DCd06ON0rWFHI1bNrY1l/hPW9d80fmmrmroHqpGvNA=\n",
       "15        D9QAV8ZNF8qU96dTBLMzO0sguzlmAIBf4302l0W6jj0=\n",
       "16        5HKzLDUVVbIxWMH9aH67ALAGVPvorE4NvmO5xqO7SMk=\n",
       "17        XwnlNj6nq2MMHe0KoyRRM4ih+RAwj5idHvlS4pTMTbg=\n",
       "18        lNmNPLZZiMwVbRFdBmDYmRdEgo8TWN2Y3m+z5XVl4aQ=\n",
       "19        5NlNga4bsKiYyj3B3I/SihUQH4wb2suNWBcxQMd9oJ8=\n",
       "20        eXWvD4/UBTi6mA9GMYTpY7/buu5xKCyXlu7hFM+ELHU=\n",
       "21        Y1V2qDdKt+5CHqFSvpm82QkPJrwRxkbP5hs7DbtU+tA=\n",
       "22        sLyKNXQo6PGK/CE0a4cUQ9+lVd/oCERRMuCSgZ6KN4Y=\n",
       "23        2TaTUEET5XAOiHPC2qKnKUK2wSqbcbA9YwM4eHTeawE=\n",
       "24        Rrh9afbenme6MuAYudJRn41u9IrLpSi9aQ8p3I34RT0=\n",
       "25        5sjnJjeZd2roOarPgSYK6559VTIhEmeunzJAd2kcuhg=\n",
       "26        FsR4+VSNjAortRRTmx2q9K2q9HtSdQ69PE1FNKKqpKk=\n",
       "27        5LgzR73HtjaKDQzMcUrveEUcvWPCuwAZrizNdCAqRnU=\n",
       "28        3rgFPp+e+xMWuKAw8wgVB4EUYotVuaWYvGuEDyNo9fc=\n",
       "29        QOE4ibjDwKrJvCZze8fKh4yxk7sHEEbffUMTmkUSfhA=\n",
       "                              ...                     \n",
       "907441    gk8XM+TA0wIqideeOAfLpAGgmhYpRTJuD3lpx9lQlh4=\n",
       "907442    3TRqAUOAuYhIQz/kCISBEhZZOnsrjVuf+WH3QLUT2aw=\n",
       "907443    FbEuxI79/jc3bitQwvZ/y2+ewGd9LEiKQrlkQGLD6lk=\n",
       "907444    +lqMzJchsQDoQvkRDnM5VKPAtEPbcRrpyiIewdWlwEo=\n",
       "907445    3rlqpTjQ8e+q9axfQLKhRK0HmBoL2m+jvo0rm7+dbeU=\n",
       "907446    mK64Lapcbh0+hz+u5Jy27iDEQqDsSUjXh5Xw+oFE5kc=\n",
       "907447    oLe84AMU5+u8KFV+gpWAElh6P+RRjc5WfjgESTP93kk=\n",
       "907448    eEa3cws9RxHVr42QBanlfUYWIQKimUDeHZshYOmPFg4=\n",
       "907449    GLfSMzLvaotdTTyQ6VPNFCZvJMWBgn92ml+VzbF2caQ=\n",
       "907450    UugV5VEIkH/7Xi49DYa8FSGJg7tzfVrbY4YRnyPjiFg=\n",
       "907451    WqggMdsZdV3MpF7/bsgin1JjQ02d38Y+tGjGIKMPC9o=\n",
       "907452    xlmdLtmZa7LlVlAs9PrmNbAF4rx4gThNgYCYCXlhVRw=\n",
       "907453    wToeP3w2/VEGinU7ttBCrZYw/eur8lPat4fA7hN1M7g=\n",
       "907454    KU2kcldc9aQ+xT1x7B+HinhUR+WtxUZ9mr4xBLgUKRM=\n",
       "907455    NgEHZWUb/5fAyZ4oMGxdtPTrZFiARxCAKyOqtJ0s2aU=\n",
       "907456    dw5kCn4Sqj+P1c0qQaXcs9AAeZFbwxeUmpW+X0qlvFc=\n",
       "907457    aEeTCPSNKqaAgcHlZqntzuYf7lv4C3OxMvWqt/14jhs=\n",
       "907458    NcIK70lHsDjAsamedWqSwu1b6mZR8dwVIL4ki+TdKzw=\n",
       "907459    SZGhUzxFs6/jVf+aVAV6wkIXwC4VOJ945EhHLYjyXqY=\n",
       "907460    fgrG5+L9zmTL8wW75FbR3Cts5Z7GAUcfr5cbqrsztAw=\n",
       "907461    s2BQi80mz+SH4d+Ld0lCW28ZeyPGnnaBmaD9Mx3D4Ks=\n",
       "907462    r+Eb1hNptQDU/Wa0E+Myg/4+K7XqckAvlEU6xY2r9CQ=\n",
       "907463    kC0vNHziTsaosr42qwIilPjviq7ToGkmEARWNpvFRqs=\n",
       "907464    lmuB1hC6Trpb84bWVC3dvLBJkBtbo7N2OVf0Lwo0c9c=\n",
       "907465    puL2A+Pe6eqOM6D+RKnqmdiJPaWrlKYQcCrJXKCXIIM=\n",
       "907466    8nS1SbsI9+9vN07m8GyfmsWv/A9H8dUlbIbjbZ2a/Nk=\n",
       "907467    KsOpJUA4P2pEaSl0afZhyl1QBaLHXTw33IYuQsnKdxE=\n",
       "907468    NIcI2YUj9v2tC/NRtreLz1wxwLczQacJ2Ek9RJKgarI=\n",
       "907469    b8MlVUtzUhQrIqKcqVKPENOIUo/5EiZxfExBkkfoBxY=\n",
       "907470    YhPGjMES6gPOZMm33BmxwM4hg5I1gbpBM5Be16NXZoI=\n",
       "Name: msno, Length: 907471, dtype: object"
      ]
     },
     "execution_count": 7,
     "metadata": {},
     "output_type": "execute_result"
    }
   ],
   "source": [
    "trainDf = pd.read_csv('data/sample_submission_v2.csv')\n",
    "uniqueUsers = trainDf.msno\n",
    "uniqueUsers\n",
    "# uniqueUsers.compute()"
   ]
  },
  {
   "cell_type": "code",
   "execution_count": 20,
   "metadata": {},
   "outputs": [],
   "source": [
    "groupedUser = userDf.groupby(['msno','month']).aggregate( 'mean')\n",
    "\n",
    "#compute() returns a pandas dataframe\n",
    "groupedUser = groupedUser.compute()\n",
    "# groupedUser.head()"
   ]
  },
  {
   "cell_type": "code",
   "execution_count": 21,
   "metadata": {
    "collapsed": true
   },
   "outputs": [],
   "source": [
    "groupedUser.to_csv('data/user_grouped_v2.csv')\n",
    "# type(groupedUser)"
   ]
  },
  {
   "cell_type": "code",
   "execution_count": null,
   "metadata": {
    "collapsed": true
   },
   "outputs": [],
   "source": []
  }
 ],
 "metadata": {
  "kernelspec": {
   "display_name": "Python 2",
   "language": "python",
   "name": "python2"
  },
  "language_info": {
   "codemirror_mode": {
    "name": "ipython",
    "version": 2
   },
   "file_extension": ".py",
   "mimetype": "text/x-python",
   "name": "python",
   "nbconvert_exporter": "python",
   "pygments_lexer": "ipython2",
   "version": "2.7.14"
  }
 },
 "nbformat": 4,
 "nbformat_minor": 2
}
